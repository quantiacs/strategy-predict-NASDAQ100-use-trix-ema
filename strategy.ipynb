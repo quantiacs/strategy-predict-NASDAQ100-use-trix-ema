{
 "cells": [
  {
   "cell_type": "markdown",
   "metadata": {},
   "source": [
    "# Predicting stocks using technical indicators (trix, ema)\n",
    "\n",
    "This template shows you the basic steps for taking part to the **NASDAQ-100 Stock Long-Short contest**."
   ]
  },
  {
   "cell_type": "code",
   "execution_count": null,
   "metadata": {},
   "outputs": [],
   "source": [
    "from IPython.display import display\n",
    "import xarray as xr\n",
    "import qnt.data as qndata\n",
    "import qnt.output as qnout\n",
    "import qnt.ta as qnta\n",
    "import qnt.stats as qns\n",
    "\n",
    "\n",
    "def multi_trix_v3(data, params):\n",
    "    s_ = qnta.trix(data.sel(field='high'), params[0])\n",
    "    w_1 = s_.shift(time=params[1]) > s_.shift(time=params[2])\n",
    "    w_2 = s_.shift(time=params[3]) > s_.shift(time=params[4])\n",
    "    weights = (w_1 * w_2) * data.sel(field=\"is_liquid\")\n",
    "    return weights.fillna(0)\n",
    "\n",
    "\n",
    "def multi_ema_v3(data, params):\n",
    "    s_ = qnta.ema(data.sel(field='high'), params[0])\n",
    "    w_1 = s_.shift(time=params[1]) > s_.shift(time=params[2])\n",
    "    w_2 = s_.shift(time=params[3]) > s_.shift(time=params[4])\n",
    "    weights = (w_1 * w_2) * data.sel(field=\"is_liquid\")\n",
    "    return weights.fillna(0)\n",
    "\n",
    "\n",
    "def multi_ema_v4(data, params):\n",
    "    s_ = qnta.trix(data.sel(field='high'), 30)\n",
    "    w_1 = s_.shift(time=params[0]) > s_.shift(time=params[1])\n",
    "    s_ = qnta.ema(data.sel(field='high'), params[2])\n",
    "    w_2 = s_.shift(time=params[3]) > s_.shift(time=params[4])\n",
    "    weights = (w_1 * w_2) * data.sel(field=\"is_liquid\")\n",
    "    return weights.fillna(0)\n",
    "\n",
    "\n",
    "data = qndata.stocks.load_ndx_data(min_date=\"2005-01-01\")\n",
    "\n",
    "weights_1 = multi_trix_v3(data, [87, 135, 108, 13, 114])\n",
    "weights_2 = multi_trix_v3(data, [89, 8, 101, 148, 36])\n",
    "weights_3 = multi_trix_v3(data, [196, 125, 76, 12, 192])\n",
    "weights_4 = multi_ema_v3(data, [69, 47, 57, 7, 41])\n",
    "\n",
    "weights_f = (weights_1 + weights_2) * weights_3 * weights_4\n",
    "\n",
    "weights_5 = multi_trix_v3(data, [89, 139, 22, 8, 112])\n",
    "weights_6 = multi_trix_v3(data, [92, 139, 20, 10, 110])\n",
    "weights_7 = multi_ema_v4(data, [13, 134, 42, 66, 133])\n",
    "\n",
    "weights_t = (weights_5 + weights_6) * weights_7 + weights_3\n",
    "\n",
    "weights_all = 4 * weights_f + weights_t"
   ]
  },
  {
   "cell_type": "code",
   "execution_count": null,
   "metadata": {},
   "outputs": [],
   "source": [
    "def get_enough_bid_for(weights_):\n",
    "    time_traded = weights_.time[abs(weights_).fillna(0).sum('asset') > 0]\n",
    "    is_strategy_traded = len(time_traded)\n",
    "    if is_strategy_traded:\n",
    "        return xr.where(weights_.time < time_traded.min(), data.sel(field=\"is_liquid\"), weights_)\n",
    "    return weights_\n",
    "\n",
    "\n",
    "weights_new = get_enough_bid_for(weights_all)\n",
    "weights_new = weights_new.sel(time=slice(\"2006-01-01\",None))\n",
    "\n",
    "weights = qnout.clean(output=weights_new, data=data, kind=\"stocks_nasdaq100\")"
   ]
  },
  {
   "cell_type": "code",
   "execution_count": null,
   "metadata": {},
   "outputs": [],
   "source": [
    "def print_statistic(data, weights_all):\n",
    "    import qnt.stats as qnstats\n",
    "\n",
    "    stats = qnstats.calc_stat(data, weights_all)\n",
    "    display(stats.to_pandas().tail(5))\n",
    "    # graph\n",
    "    performance = stats.to_pandas()[\"equity\"]\n",
    "    import qnt.graph as qngraph\n",
    "\n",
    "    qngraph.make_plot_filled(performance.index, performance, name=\"PnL (Equity)\", type=\"log\")\n",
    "\n",
    "print_statistic(data, weights)"
   ]
  },
  {
   "cell_type": "code",
   "execution_count": null,
   "metadata": {},
   "outputs": [],
   "source": [
    "weights = weights.sel(time=slice(\"2006-01-01\",None))\n",
    "\n",
    "qnout.check(weights, data, \"stocks_nasdaq100\")\n",
    "qnout.write(weights) # to participate in the competition"
   ]
  },
  {
   "cell_type": "code",
   "execution_count": null,
   "metadata": {},
   "outputs": [],
   "source": [
    "weights"
   ]
  },
  {
   "cell_type": "code",
   "execution_count": null,
   "metadata": {},
   "outputs": [],
   "source": [
    "data"
   ]
  }
 ],
 "metadata": {
  "kernelspec": {
   "display_name": "Python 3",
   "language": "python",
   "name": "python3"
  },
  "language_info": {
   "codemirror_mode": {
    "name": "ipython",
    "version": 3
   },
   "file_extension": ".py",
   "mimetype": "text/x-python",
   "name": "python",
   "nbconvert_exporter": "python",
   "pygments_lexer": "ipython3",
   "version": "3.7.6"
  }
 },
 "nbformat": 4,
 "nbformat_minor": 4
}
